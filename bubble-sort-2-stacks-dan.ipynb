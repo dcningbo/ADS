{
 "cells": [
  {
   "cell_type": "code",
   "execution_count": 13,
   "metadata": {},
   "outputs": [
    {
     "name": "stdout",
     "output_type": "stream",
     "text": [
      "[15, 19, 5, 11, 27, 10, 25, 23, 0, 18, 6, 29, 13, 20, 12, 3, 26, 14, 17, 28, 8, 2, 21, 1, 16, 24, 4, 22, 9, 7]\n",
      "[]\n",
      "[0, 1, 2, 3, 4, 5, 6, 7, 8, 9, 10, 11, 12, 13, 14, 15, 16, 17, 18, 19, 20, 21, 22, 23, 24, 25, 26, 27, 28, 29]\n"
     ]
    }
   ],
   "source": [
    "\"\"\"\n",
    "Created on Mon May 18 21:16:43 2020\n",
    "\n",
    "@author: Dan\n",
    "\"\"\"\n",
    "'''\n",
    "bubble sort on a stack\n",
    "'''\n",
    "import random \n",
    "\n",
    "def sort_stack(stack1):\n",
    "    stack2 = []\n",
    "    while len(stack1) > 0:\n",
    "        temp = stack1.pop(-1)\n",
    "        while stack2 and temp < stack2[-1]:\n",
    "            stack1.append(stack2.pop(-1))\n",
    "        stack2.append(temp)\n",
    "    return stack2\n",
    "        \n",
    "stack1 = random.sample(range(0, 30),30)\n",
    "print(stack1)\n",
    "stack2 = sort_stack(stack1)\n",
    "print(stack1)\n",
    "print(stack2)"
   ]
  }
 ],
 "metadata": {
  "kernelspec": {
   "display_name": "Python 3",
   "language": "python",
   "name": "python3"
  },
  "language_info": {
   "codemirror_mode": {
    "name": "ipython",
    "version": 3
   },
   "file_extension": ".py",
   "mimetype": "text/x-python",
   "name": "python",
   "nbconvert_exporter": "python",
   "pygments_lexer": "ipython3",
   "version": "3.7.4"
  }
 },
 "nbformat": 4,
 "nbformat_minor": 2
}
