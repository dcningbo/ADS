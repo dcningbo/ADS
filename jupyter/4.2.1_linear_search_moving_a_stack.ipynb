{
 "cells": [
  {
   "cell_type": "code",
   "execution_count": 5,
   "metadata": {},
   "outputs": [
    {
     "name": "stdout",
     "output_type": "stream",
     "text": [
      "['alpha', 'bravo', 'charlie', 'delta', 'echo', 'foxtrot']\n",
      "['alpha', 'bravo', 'charlie', 'delta', 'echo', 'foxtrot']\n"
     ]
    }
   ],
   "source": [
    "stack = ['alpha', 'bravo', 'charlie', 'delta', 'echo', 'foxtrot']\n",
    "print(stack)\n",
    "queue = []\n",
    "\n",
    "for i in range(0, len(stack)):\n",
    "    t = stack.pop(0)\n",
    "    queue.append(t)\n",
    "    \n",
    "print(queue)"
   ]
  }
 ],
 "metadata": {
  "kernelspec": {
   "display_name": "Python 3",
   "language": "python",
   "name": "python3"
  },
  "language_info": {
   "codemirror_mode": {
    "name": "ipython",
    "version": 3
   },
   "file_extension": ".py",
   "mimetype": "text/x-python",
   "name": "python",
   "nbconvert_exporter": "python",
   "pygments_lexer": "ipython3",
   "version": "3.7.4"
  }
 },
 "nbformat": 4,
 "nbformat_minor": 2
}
