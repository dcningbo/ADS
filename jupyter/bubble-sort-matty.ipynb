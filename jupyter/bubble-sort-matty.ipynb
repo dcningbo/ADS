{
 "cells": [
  {
   "cell_type": "code",
   "execution_count": 8,
   "metadata": {},
   "outputs": [
    {
     "name": "stdout",
     "output_type": "stream",
     "text": [
      "[4, 6, 1, 8, 7, 5, 2, 9, 3, 0]\n",
      "[0, 1, 2, 3, 4, 5, 6, 7, 8, 9]\n"
     ]
    }
   ],
   "source": [
    "\"\"\"\n",
    "Created on Mon May 18 17:51:34 2020\n",
    "\n",
    "@author: Dan\n",
    "\"\"\"\n",
    "import random\n",
    "\n",
    "def swap(arr, i, j):\n",
    "    x = arr[j]\n",
    "    arr[j] = arr[i]\n",
    "    arr[i] = x\n",
    "    return arr, i, j\n",
    "    \n",
    "    \n",
    "    \n",
    "def bubble_sort(arr):\n",
    "    for i in range(0, len(arr) - 1):\n",
    "        count = 0\n",
    "        for j in range(0, len(arr) - 1):\n",
    "            if arr[j + 1] < arr[j]:\n",
    "                arr[j], arr[j + 1] = arr[j + 1], arr[j]\n",
    "                count = count + 1\n",
    "        if count == 0:\n",
    "            break\n",
    "    return arr\n",
    "\n",
    "arr = random.sample(range(0, 10),10)\n",
    "print(arr)\n",
    "result = bubble_sort(arr)\n",
    "print(result)"
   ]
  }
 ],
 "metadata": {
  "kernelspec": {
   "display_name": "Python 3",
   "language": "python",
   "name": "python3"
  },
  "language_info": {
   "codemirror_mode": {
    "name": "ipython",
    "version": 3
   },
   "file_extension": ".py",
   "mimetype": "text/x-python",
   "name": "python",
   "nbconvert_exporter": "python",
   "pygments_lexer": "ipython3",
   "version": "3.7.4"
  }
 },
 "nbformat": 4,
 "nbformat_minor": 2
}
