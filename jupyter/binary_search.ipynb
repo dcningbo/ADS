{
 "cells": [
  {
   "cell_type": "markdown",
   "metadata": {},
   "source": [
    "# Binary Search "
   ]
  },
  {
   "cell_type": "markdown",
   "metadata": {},
   "source": [
    "<div>\n",
    "<img src=\"binary_search.png\" width=\"200\" align=\"left\"/>\n",
    "</div>"
   ]
  },
  {
   "cell_type": "markdown",
   "metadata": {},
   "source": [
    "Bubble sort the vector:"
   ]
  },
  {
   "cell_type": "code",
   "execution_count": 1,
   "metadata": {},
   "outputs": [],
   "source": [
    "import numpy as np\n",
    "import math\n",
    "\n",
    "def bubble(v, size):\n",
    "    if size <= 1:\n",
    "        return v\n",
    "    for i in range(0, len(v)-1):\n",
    "        if v[i] > v[i+1]:\n",
    "            temp = v[i]\n",
    "            v[i] = v[i+1]\n",
    "            v[i+1] = temp\n",
    "    return bubble(v, size - 1)"
   ]
  },
  {
   "cell_type": "markdown",
   "metadata": {},
   "source": [
    "Binary search function:"
   ]
  },
  {
   "cell_type": "code",
   "execution_count": 2,
   "metadata": {},
   "outputs": [],
   "source": [
    "def binary(v, num):\n",
    "    n = len(v)\n",
    "    L = 1\n",
    "    R = n\n",
    "    while R >= L:\n",
    "        m = math.floor((L+R)/2)\n",
    "        if num >= n:\n",
    "            break\n",
    "        elif v[m] == num:\n",
    "            return m+1\n",
    "        elif v[m] > num:\n",
    "            R = m - 1\n",
    "        else:\n",
    "            L = m + 1\n",
    "    return False"
   ]
  },
  {
   "cell_type": "code",
   "execution_count": 4,
   "metadata": {},
   "outputs": [
    {
     "name": "stdout",
     "output_type": "stream",
     "text": [
      "Number to searh for: 7\n",
      "Random Vector: [ 4 10 12 19 13 15 13  7 14  6 19  4  9  8 19 12  4 14  0  2]\n",
      "Sorted Vector: [ 0  2  4  4  4  6  7  8  9 10 12 12 13 13 14 14 15 19 19 19]\n",
      "\n",
      "The number 7 is in the 7th position of vector v.\n"
     ]
    }
   ],
   "source": [
    "num = int(input(\"Number to searh for: \"))\n",
    "\n",
    "v = np.random.randint(0,20,20)\n",
    "print(\"Random Vector: {}\".format(v))\n",
    "sorted = bubble(v, len(v)-1)\n",
    "print(\"Sorted Vector: {}\\n\".format(sorted))\n",
    "\n",
    "result = binary(v, num)\n",
    "\n",
    "if result == False:\n",
    "    print(\"Your number is not in the vector.\")\n",
    "else:\n",
    "    print(\"The number {} is in the {}th position of vector v.\".format(num, result))"
   ]
  },
  {
   "cell_type": "code",
   "execution_count": null,
   "metadata": {},
   "outputs": [],
   "source": []
  }
 ],
 "metadata": {
  "kernelspec": {
   "display_name": "Python 3",
   "language": "python",
   "name": "python3"
  },
  "language_info": {
   "codemirror_mode": {
    "name": "ipython",
    "version": 3
   },
   "file_extension": ".py",
   "mimetype": "text/x-python",
   "name": "python",
   "nbconvert_exporter": "python",
   "pygments_lexer": "ipython3",
   "version": "3.8.3"
  }
 },
 "nbformat": 4,
 "nbformat_minor": 4
}
