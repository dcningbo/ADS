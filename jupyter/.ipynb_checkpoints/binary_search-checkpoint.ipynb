{
 "cells": [
  {
   "cell_type": "markdown",
   "metadata": {},
   "source": [
    "# Binary Search "
   ]
  },
  {
   "cell_type": "markdown",
   "metadata": {},
   "source": [
    "<div>\n",
    "<img src=\"binary_search.png\" width=\"200\" align=\"left\"/>\n",
    "</div>"
   ]
  },
  {
   "cell_type": "markdown",
   "metadata": {},
   "source": [
    "Bubble sort the vector:"
   ]
  },
  {
   "cell_type": "code",
   "execution_count": 17,
   "metadata": {},
   "outputs": [],
   "source": [
    "import numpy as np\n",
    "import math\n",
    "\n",
    "def bubble(v, size):\n",
    "    if size <= 1:\n",
    "        return v\n",
    "    for i in range(0, len(v)-1):\n",
    "        if v[i] > v[i+1]:\n",
    "            temp = v[i]\n",
    "            v[i] = v[i+1]\n",
    "            v[i+1] = temp\n",
    "    return bubble(v, size - 1)"
   ]
  },
  {
   "cell_type": "markdown",
   "metadata": {},
   "source": [
    "Binary search function:"
   ]
  },
  {
   "cell_type": "code",
   "execution_count": 18,
   "metadata": {},
   "outputs": [],
   "source": [
    "def binary(v, num):\n",
    "    n = len(v)\n",
    "    L = 1\n",
    "    R = n\n",
    "    while R >= L:\n",
    "        m = math.floor((L+R)/2)\n",
    "        if num >= n:\n",
    "            break\n",
    "        elif v[m] == num:\n",
    "            return m+1\n",
    "        elif v[m] > num:\n",
    "            R = m - 1\n",
    "        else:\n",
    "            L = m + 1\n",
    "    return False"
   ]
  },
  {
   "cell_type": "code",
   "execution_count": 21,
   "metadata": {},
   "outputs": [
    {
     "name": "stdout",
     "output_type": "stream",
     "text": [
      "Number to searh for: 67\n",
      "Random Vector: [14  4 16 19 12  0 19 16  1 16 16  5 13 15 17  4  1  3  0  8]\n",
      "Sorted Vector: [ 0  0  1  1  3  4  4  5  8 12 13 14 15 16 16 16 16 17 19 19]\n",
      "\n",
      "Your number is not in the vector.\n"
     ]
    }
   ],
   "source": [
    "num = input(\"Number to searh for: \")\n",
    "num = int(num)\n",
    "v = np.random.randint(0,20,20)\n",
    "print(\"Random Vector: {}\".format(v))\n",
    "sorted = bubble(v, len(v)-1)\n",
    "print(\"Sorted Vector: {}\\n\".format(sorted))\n",
    "result = binary(v, num)\n",
    "\n",
    "if result == False:\n",
    "    print(\"Your number is not in the vector.\")\n",
    "else:\n",
    "    print(\"The number {} is in the {}th position of vector v.\".format(num, result))"
   ]
  }
 ],
 "metadata": {
  "kernelspec": {
   "display_name": "Python 3",
   "language": "python",
   "name": "python3"
  },
  "language_info": {
   "codemirror_mode": {
    "name": "ipython",
    "version": 3
   },
   "file_extension": ".py",
   "mimetype": "text/x-python",
   "name": "python",
   "nbconvert_exporter": "python",
   "pygments_lexer": "ipython3",
   "version": "3.8.3"
  }
 },
 "nbformat": 4,
 "nbformat_minor": 4
}
