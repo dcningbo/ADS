{
 "cells": [
  {
   "cell_type": "code",
   "execution_count": 20,
   "metadata": {},
   "outputs": [
    {
     "name": "stdout",
     "output_type": "stream",
     "text": [
      "[0, 12, 1, 17, 18, 19, 5, 13, 2, 3, 7, 10, 8, 14, 6, 15, 11, 4, 16, 9]\n",
      "The number 3 is at index 9\n"
     ]
    }
   ],
   "source": [
    "\"\"\"\n",
    "Created on Sun May 17 19:28:06 2020\n",
    "\n",
    "@author: Dan\n",
    "\"\"\"\n",
    "\n",
    "import random\n",
    "\n",
    "\n",
    "def linear_search(arr, n):\n",
    "    for i in range(0, len(arr)):\n",
    "        if arr[i] == n:\n",
    "            return i\n",
    "    return False\n",
    "\n",
    "num = 3\n",
    "arr = random.sample(range(0, 20),20)\n",
    "result = linear_search(arr, num)\n",
    "#result = linear_search(arr, num)\n",
    "print(arr)\n",
    "if result == False:\n",
    "    print(\"The element was not found in the array\")\n",
    "else:\n",
    "    print(\"The number {} is at index {}\".format(num, result))"
   ]
  }
 ],
 "metadata": {
  "kernelspec": {
   "display_name": "Python 3",
   "language": "python",
   "name": "python3"
  },
  "language_info": {
   "codemirror_mode": {
    "name": "ipython",
    "version": 3
   },
   "file_extension": ".py",
   "mimetype": "text/x-python",
   "name": "python",
   "nbconvert_exporter": "python",
   "pygments_lexer": "ipython3",
   "version": "3.7.4"
  }
 },
 "nbformat": 4,
 "nbformat_minor": 2
}
