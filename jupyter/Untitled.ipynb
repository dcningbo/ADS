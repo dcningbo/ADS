{
 "cells": [
  {
   "cell_type": "code",
   "execution_count": 16,
   "metadata": {},
   "outputs": [
    {
     "name": "stdout",
     "output_type": "stream",
     "text": [
      "Begin stack elements:  ['alpha', 'bravo', 'charlie', 'delta', 'echo', 'foxtrot']\n",
      "Begin queue elements:  []\n",
      "\n",
      "Result stack elements:  []\n",
      "Result queue elements:  ['alpha', 'bravo', 'charlie', 'delta', 'echo', 'foxtrot']\n"
     ]
    }
   ],
   "source": [
    "stack = ['alpha', 'bravo', 'charlie', 'delta', 'echo', 'foxtrot']\n",
    "queue = []\n",
    "\n",
    "print('Begin stack elements: ', stack)\n",
    "print('Begin queue elements: ', queue)\n",
    "\n",
    "for i in range(0, len(stack)):\n",
    "    t = stack.pop(0)\n",
    "    queue.append(t)\n",
    "\n",
    "print(\"\")\n",
    "print('Result stack elements: ', stack)\n",
    "print('Result queue elements: ', queue)"
   ]
  },
  {
   "cell_type": "code",
   "execution_count": null,
   "metadata": {},
   "outputs": [],
   "source": []
  }
 ],
 "metadata": {
  "kernelspec": {
   "display_name": "Python 3",
   "language": "python",
   "name": "python3"
  },
  "language_info": {
   "codemirror_mode": {
    "name": "ipython",
    "version": 3
   },
   "file_extension": ".py",
   "mimetype": "text/x-python",
   "name": "python",
   "nbconvert_exporter": "python",
   "pygments_lexer": "ipython3",
   "version": "3.7.4"
  }
 },
 "nbformat": 4,
 "nbformat_minor": 2
}
