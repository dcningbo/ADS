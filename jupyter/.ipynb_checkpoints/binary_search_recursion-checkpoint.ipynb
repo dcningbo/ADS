{
 "cells": [
  {
   "cell_type": "markdown",
   "metadata": {},
   "source": [
    "# Binary Search using Recursion"
   ]
  },
  {
   "cell_type": "markdown",
   "metadata": {},
   "source": [
    "<div>\n",
    "<img src=\"binary_search.png\" width=\"200\" align=\"left\"/>\n",
    "</div>"
   ]
  },
  {
   "cell_type": "markdown",
   "metadata": {},
   "source": [
    "Bubble sort function:"
   ]
  },
  {
   "cell_type": "code",
   "execution_count": 12,
   "metadata": {},
   "outputs": [],
   "source": [
    "import numpy as np\n",
    "import math\n",
    "\n",
    "def bubble(v, size):\n",
    "    if size <= 1:\n",
    "        return v\n",
    "    for i in range(0, len(v)-1):\n",
    "        if v[i] > v[i+1]:\n",
    "            temp = v[i]\n",
    "            v[i] = v[i+1]\n",
    "            v[i+1] = temp\n",
    "    return bubble(v, size - 1)"
   ]
  },
  {
   "cell_type": "markdown",
   "metadata": {},
   "source": [
    "Recursive binary search function:"
   ]
  },
  {
   "cell_type": "code",
   "execution_count": 13,
   "metadata": {},
   "outputs": [],
   "source": [
    "# def binary(v, num):\n",
    "#     n = len(v)\n",
    "#     L = 1\n",
    "#     R = n\n",
    "#     while R >= L:\n",
    "#         m = math.floor((L+R)/2)\n",
    "#         if num >= n:\n",
    "#             break\n",
    "#         elif v[m] == num:\n",
    "#             return m+1\n",
    "#         elif v[m] > num:\n",
    "#             R = m - 1\n",
    "#         else:\n",
    "#             L = m + 1\n",
    "#     return False"
   ]
  },
  {
   "cell_type": "code",
   "execution_count": 14,
   "metadata": {},
   "outputs": [],
   "source": [
    "def binary_recursion(v, num, R, L):\n",
    "    M = math.floor((L+R)/2)\n",
    "#     if num > len()\n",
    "    if v[M] == num:\n",
    "        return M+1\n",
    "    elif v[M] > num:\n",
    "        return binary_recursion(v, num, R-1, L)\n",
    "    elif v[M] < num:\n",
    "        return binary_recursion(v, num, R, L+1)\n",
    "    else:\n",
    "        return False\n",
    "    \n",
    "        "
   ]
  },
  {
   "cell_type": "code",
   "execution_count": null,
   "metadata": {},
   "outputs": [
    {
     "name": "stdout",
     "output_type": "stream",
     "text": [
      "Number to searh for: 3\n"
     ]
    }
   ],
   "source": [
    "num = int(input(\"Number to searh for: \"))\n",
    "v = np.random.randint(1,20,20)\n",
    "\n",
    "print(v)\n",
    "sorted_v = bubble(v, len(v)-1)\n",
    "print(sorted_v)\n",
    "result = binary_recursion(sorted_v, num, len(sorted_v), 1)\n",
    "if result == False:\n",
    "    print(\"\\nThe number {} is not in the vector.\".format(num))\n",
    "else:\n",
    "    print(\"\\nThe number {} is in the {}th position of vector v.\".format(num, result))"
   ]
  },
  {
   "cell_type": "code",
   "execution_count": null,
   "metadata": {},
   "outputs": [],
   "source": []
  }
 ],
 "metadata": {
  "kernelspec": {
   "display_name": "Python 3",
   "language": "python",
   "name": "python3"
  },
  "language_info": {
   "codemirror_mode": {
    "name": "ipython",
    "version": 3
   },
   "file_extension": ".py",
   "mimetype": "text/x-python",
   "name": "python",
   "nbconvert_exporter": "python",
   "pygments_lexer": "ipython3",
   "version": "3.8.3"
  }
 },
 "nbformat": 4,
 "nbformat_minor": 4
}
