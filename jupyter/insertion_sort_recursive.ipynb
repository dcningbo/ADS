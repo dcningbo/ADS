{
 "cells": [
  {
   "cell_type": "markdown",
   "metadata": {},
   "source": [
    "# Insertion Sort using Recursion"
   ]
  },
  {
   "cell_type": "markdown",
   "metadata": {},
   "source": [
    "<div>\n",
    "<img src=\"insertiaon-sort-recursive.png\" width=\"600\" align=\"left\"/>\n",
    "</div>"
   ]
  },
  {
   "cell_type": "markdown",
   "metadata": {},
   "source": [
    "Shift function:"
   ]
  },
  {
   "cell_type": "code",
   "execution_count": 22,
   "metadata": {},
   "outputs": [],
   "source": [
    "import numpy as np\n",
    "\n",
    "def shift(v,i,j):\n",
    "    if i <= j:\n",
    "        return v\n",
    "    store = v[i]\n",
    "    for k in range(0, i-j-1):\n",
    "        v[i-k] = v[i-k-1]\n",
    "    v[j] = store\n",
    "    return v"
   ]
  },
  {
   "cell_type": "markdown",
   "metadata": {},
   "source": [
    "Insertion sort using recursion:"
   ]
  },
  {
   "cell_type": "code",
   "execution_count": 23,
   "metadata": {},
   "outputs": [],
   "source": [
    "def sort(v, r):\n",
    "    if r <= 0:\n",
    "        return v\n",
    "    sort(v, r-1)\n",
    "    j = r\n",
    "    i = r\n",
    "    while v[i] < v[j-1] and j > 0:\n",
    "        j = j-1\n",
    "    shift(v,i,j)\n",
    "    return v"
   ]
  },
  {
   "cell_type": "markdown",
   "metadata": {},
   "source": [
    "Call insertion function:"
   ]
  },
  {
   "cell_type": "code",
   "execution_count": 24,
   "metadata": {},
   "outputs": [],
   "source": [
    "def insertion(v):\n",
    "    n = len(v)-1\n",
    "    return sort(v,n)"
   ]
  },
  {
   "cell_type": "markdown",
   "metadata": {},
   "source": [
    "Call function and print:"
   ]
  },
  {
   "cell_type": "code",
   "execution_count": 25,
   "metadata": {},
   "outputs": [
    {
     "name": "stdout",
     "output_type": "stream",
     "text": [
      "[ 3 37 29 36 48 42  5 24  2 25 24 29 42 18 26 13 22 31 15 12]\n",
      "[ 2  5  5 12 15 15 24 24 24 24 26 29 29 29 29 31 42 42 42 42]\n"
     ]
    }
   ],
   "source": [
    "v = np.random.randint(1,50,20)\n",
    "print(v)\n",
    "sorted = insertion(v)\n",
    "print(sorted)\n"
   ]
  },
  {
   "cell_type": "code",
   "execution_count": null,
   "metadata": {},
   "outputs": [],
   "source": []
  }
 ],
 "metadata": {
  "kernelspec": {
   "display_name": "Python 3",
   "language": "python",
   "name": "python3"
  },
  "language_info": {
   "codemirror_mode": {
    "name": "ipython",
    "version": 3
   },
   "file_extension": ".py",
   "mimetype": "text/x-python",
   "name": "python",
   "nbconvert_exporter": "python",
   "pygments_lexer": "ipython3",
   "version": "3.8.3"
  }
 },
 "nbformat": 4,
 "nbformat_minor": 4
}
