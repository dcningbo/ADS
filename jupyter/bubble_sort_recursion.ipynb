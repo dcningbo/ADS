{
 "cells": [
  {
   "cell_type": "markdown",
   "metadata": {},
   "source": [
    "# Bubble Sort using Recursion"
   ]
  },
  {
   "cell_type": "markdown",
   "metadata": {},
   "source": [
    "<div>\n",
    "<img src=\"bubbleSortRecursion.png\" width=\"300\" align=\"left\"/>\n",
    "</div>"
   ]
  },
  {
   "cell_type": "markdown",
   "metadata": {},
   "source": [
    "Recursive function:"
   ]
  },
  {
   "cell_type": "code",
   "execution_count": 7,
   "metadata": {},
   "outputs": [],
   "source": [
    "import numpy as np\n",
    "\n",
    "def bubble(v, size):\n",
    "    if size <= 1:\n",
    "        return v\n",
    "    for i in range(0, len(v)-1):\n",
    "        if v[i] > v[i+1]:\n",
    "            temp = v[i]\n",
    "            v[i] = v[i+1]\n",
    "            v[i+1] = temp\n",
    "    return bubble(v, size - 1)"
   ]
  },
  {
   "cell_type": "markdown",
   "metadata": {},
   "source": [
    "Call recursive function"
   ]
  },
  {
   "cell_type": "code",
   "execution_count": 20,
   "metadata": {},
   "outputs": [
    {
     "name": "stdout",
     "output_type": "stream",
     "text": [
      "Vector before bubble sort: [14 19  7 36  1 38 35 15  9  6 36 16 36 31 16 35 49 47 43 41]\n",
      "Sorted vector:             [ 1  6  7  9 14 15 16 16 19 31 35 35 36 36 36 38 41 43 47 49]\n"
     ]
    }
   ],
   "source": [
    "v = np.random.randint(1,50,20)\n",
    "print(\"Vector before bubble sort: {}\".format(v))\n",
    "sorted_vector = bubble(v, len(v)) \n",
    "print(\"Sorted vector:             {}\".format(sorted_vector))"
   ]
  }
 ],
 "metadata": {
  "kernelspec": {
   "display_name": "Python 3",
   "language": "python",
   "name": "python3"
  },
  "language_info": {
   "codemirror_mode": {
    "name": "ipython",
    "version": 3
   },
   "file_extension": ".py",
   "mimetype": "text/x-python",
   "name": "python",
   "nbconvert_exporter": "python",
   "pygments_lexer": "ipython3",
   "version": "3.8.3"
  }
 },
 "nbformat": 4,
 "nbformat_minor": 4
}
