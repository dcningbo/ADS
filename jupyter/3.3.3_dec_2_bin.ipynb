{
 "cells": [
  {
   "cell_type": "code",
   "execution_count": 4,
   "metadata": {},
   "outputs": [
    {
     "name": "stdout",
     "output_type": "stream",
     "text": [
      "The binary equivalent of 258 is:\n",
      "100000010\n"
     ]
    }
   ],
   "source": [
    "def dec2bin(dec_num):\n",
    "    bin_num = []\n",
    "    q = 0\n",
    "    r = 0\n",
    "    while dec_num > 0:\n",
    "        q = dec_num // 2\n",
    "        r = dec_num % 2\n",
    "        bin_num.insert(0, r)\n",
    "        dec_num = q\n",
    "    return bin_num\n",
    "\n",
    "#decimal = input(\"Enter number to convert: \")\n",
    "#decimal = int(decimal)\n",
    "decimal = 258\n",
    "\n",
    "result = (dec2bin(decimal))\n",
    "#result = str(result)\n",
    "#result = result.replace(', ', '')\n",
    "#''.join(map(*result, sep='')\n",
    "print(\"The binary equivalent of {} is:\".format(decimal))\n",
    "print(*result, sep='')"
   ]
  }
 ],
 "metadata": {
  "kernelspec": {
   "display_name": "Python 3",
   "language": "python",
   "name": "python3"
  },
  "language_info": {
   "codemirror_mode": {
    "name": "ipython",
    "version": 3
   },
   "file_extension": ".py",
   "mimetype": "text/x-python",
   "name": "python",
   "nbconvert_exporter": "python",
   "pygments_lexer": "ipython3",
   "version": "3.7.4"
  }
 },
 "nbformat": 4,
 "nbformat_minor": 2
}
