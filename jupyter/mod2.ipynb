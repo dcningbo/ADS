{
 "cells": [
  {
   "cell_type": "code",
   "execution_count": 3,
   "metadata": {},
   "outputs": [
    {
     "name": "stdout",
     "output_type": "stream",
     "text": [
      "Enter number:456\n",
      "456 in mod 2 is 0\n"
     ]
    }
   ],
   "source": [
    "def last_digit(n):\n",
    "    return n % 10\n",
    "\n",
    "def mod2(n):\n",
    "    return last_digit(n) % 2\n",
    "\n",
    "n = input(\"Enter number:\")\n",
    "n = int(n)\n",
    "result = mod2(n)\n",
    "\n",
    "print('{} in mod 2 is {}'.format(str(n), str(result)))"
   ]
  }
 ],
 "metadata": {
  "kernelspec": {
   "display_name": "Python 3",
   "language": "python",
   "name": "python3"
  },
  "language_info": {
   "codemirror_mode": {
    "name": "ipython",
    "version": 3
   },
   "file_extension": ".py",
   "mimetype": "text/x-python",
   "name": "python",
   "nbconvert_exporter": "python",
   "pygments_lexer": "ipython3",
   "version": "3.7.4"
  }
 },
 "nbformat": 4,
 "nbformat_minor": 2
}
