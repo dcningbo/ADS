{
 "cells": [
  {
   "cell_type": "markdown",
   "metadata": {},
   "source": [
    "# Binary Search using Recursion"
   ]
  },
  {
   "cell_type": "markdown",
   "metadata": {},
   "source": [
    "<div>\n",
    "<img src=\"binary_search_recursion.png\" width=\"300\" align=\"left\"/>\n",
    "</div>"
   ]
  },
  {
   "cell_type": "code",
   "execution_count": 3,
   "metadata": {},
   "outputs": [],
   "source": [
    "import numpy as np\n",
    "import math\n",
    "def binary_recursion(v, num, R, L):\n",
    "    M = math.floor((L+R)/2)\n",
    "    if L > R:\n",
    "        return False\n",
    "    elif v[M] == num:\n",
    "        return M+1\n",
    "    elif v[M] > num:\n",
    "        return binary_recursion(v, num, R-1, L)\n",
    "    elif v[M] < num:\n",
    "        return binary_recursion(v, num, R, L+1)\n",
    "    else:\n",
    "        return False       "
   ]
  },
  {
   "cell_type": "code",
   "execution_count": 6,
   "metadata": {},
   "outputs": [
    {
     "name": "stdout",
     "output_type": "stream",
     "text": [
      "Number to searh for: 10\n",
      "Vector: [1, 2, 2, 5, 10, 11]\n",
      "The number 10 is in the 5th position of vector v.\n"
     ]
    }
   ],
   "source": [
    "num = int(input(\"Number to searh for: \"))                              # USER INPUT\n",
    "v = [1,2,2,5,10,11]\n",
    "result = binary_recursion(v, num, len(v)-1, 1)                         # CALL RECURSIVE SEARCH FUNCTION\n",
    "print(\"Vector: {}\".format(v))\n",
    "if result == False:\n",
    "    print(\"The number {} is not in the vector.\".format(num))\n",
    "else:\n",
    "    print(\"The number {} is in the {}th position of vector v.\".format(num, result))"
   ]
  },
  {
   "cell_type": "markdown",
   "metadata": {},
   "source": [
    "Bubble sort function:"
   ]
  },
  {
   "cell_type": "code",
   "execution_count": null,
   "metadata": {},
   "outputs": [],
   "source": [
    "def bubble(v, size):\n",
    "    if size <= 1:\n",
    "        return v\n",
    "    for i in range(0, len(v)-1):\n",
    "        if v[i] > v[i+1]:\n",
    "            temp = v[i]\n",
    "            v[i] = v[i+1]\n",
    "            v[i+1] = temp\n",
    "    return bubble(v, size - 1)"
   ]
  }
 ],
 "metadata": {
  "kernelspec": {
   "display_name": "Python 3",
   "language": "python",
   "name": "python3"
  },
  "language_info": {
   "codemirror_mode": {
    "name": "ipython",
    "version": 3
   },
   "file_extension": ".py",
   "mimetype": "text/x-python",
   "name": "python",
   "nbconvert_exporter": "python",
   "pygments_lexer": "ipython3",
   "version": "3.8.3"
  }
 },
 "nbformat": 4,
 "nbformat_minor": 4
}
